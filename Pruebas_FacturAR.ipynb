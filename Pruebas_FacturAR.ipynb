{
  "nbformat": 4,
  "nbformat_minor": 0,
  "metadata": {
    "colab": {
      "provenance": [],
      "include_colab_link": true
    },
    "kernelspec": {
      "name": "python3",
      "display_name": "Python 3"
    },
    "language_info": {
      "name": "python"
    }
  },
  "cells": [
    {
      "cell_type": "markdown",
      "metadata": {
        "id": "view-in-github",
        "colab_type": "text"
      },
      "source": [
        "<a href=\"https://colab.research.google.com/github/Nicolas-Noir/FacturAR/blob/main/Pruebas_FacturAR.ipynb\" target=\"_parent\"><img src=\"https://colab.research.google.com/assets/colab-badge.svg\" alt=\"Open In Colab\"/></a>"
      ]
    },
    {
      "cell_type": "markdown",
      "source": [
        "# FacturAR"
      ],
      "metadata": {
        "id": "hEnNTaANOLHI"
      }
    },
    {
      "cell_type": "markdown",
      "source": [
        "## Librerias"
      ],
      "metadata": {
        "id": "lNQwc_74ONV4"
      }
    },
    {
      "cell_type": "code",
      "source": [
        "# %pip install pdfplumber\n",
        "!pip install --upgrade transformers"
      ],
      "metadata": {
        "colab": {
          "base_uri": "https://localhost:8080/"
        },
        "collapsed": true,
        "id": "ALFV3MuTPoR_",
        "outputId": "2636a256-b6e9-44e7-bfe4-53196f71fd6e"
      },
      "execution_count": null,
      "outputs": [
        {
          "output_type": "stream",
          "name": "stdout",
          "text": [
            "Requirement already satisfied: transformers in /usr/local/lib/python3.11/dist-packages (4.51.3)\n",
            "Requirement already satisfied: filelock in /usr/local/lib/python3.11/dist-packages (from transformers) (3.18.0)\n",
            "Requirement already satisfied: huggingface-hub<1.0,>=0.30.0 in /usr/local/lib/python3.11/dist-packages (from transformers) (0.30.2)\n",
            "Requirement already satisfied: numpy>=1.17 in /usr/local/lib/python3.11/dist-packages (from transformers) (2.0.2)\n",
            "Requirement already satisfied: packaging>=20.0 in /usr/local/lib/python3.11/dist-packages (from transformers) (24.2)\n",
            "Requirement already satisfied: pyyaml>=5.1 in /usr/local/lib/python3.11/dist-packages (from transformers) (6.0.2)\n",
            "Requirement already satisfied: regex!=2019.12.17 in /usr/local/lib/python3.11/dist-packages (from transformers) (2024.11.6)\n",
            "Requirement already satisfied: requests in /usr/local/lib/python3.11/dist-packages (from transformers) (2.32.3)\n",
            "Requirement already satisfied: tokenizers<0.22,>=0.21 in /usr/local/lib/python3.11/dist-packages (from transformers) (0.21.1)\n",
            "Requirement already satisfied: safetensors>=0.4.3 in /usr/local/lib/python3.11/dist-packages (from transformers) (0.5.3)\n",
            "Requirement already satisfied: tqdm>=4.27 in /usr/local/lib/python3.11/dist-packages (from transformers) (4.67.1)\n",
            "Requirement already satisfied: fsspec>=2023.5.0 in /usr/local/lib/python3.11/dist-packages (from huggingface-hub<1.0,>=0.30.0->transformers) (2025.3.2)\n",
            "Requirement already satisfied: typing-extensions>=3.7.4.3 in /usr/local/lib/python3.11/dist-packages (from huggingface-hub<1.0,>=0.30.0->transformers) (4.13.2)\n",
            "Requirement already satisfied: charset-normalizer<4,>=2 in /usr/local/lib/python3.11/dist-packages (from requests->transformers) (3.4.1)\n",
            "Requirement already satisfied: idna<4,>=2.5 in /usr/local/lib/python3.11/dist-packages (from requests->transformers) (3.10)\n",
            "Requirement already satisfied: urllib3<3,>=1.21.1 in /usr/local/lib/python3.11/dist-packages (from requests->transformers) (2.4.0)\n",
            "Requirement already satisfied: certifi>=2017.4.17 in /usr/local/lib/python3.11/dist-packages (from requests->transformers) (2025.4.26)\n"
          ]
        }
      ]
    },
    {
      "cell_type": "code",
      "source": [
        "import pdfplumber\n",
        "\n",
        "def extract_invoice_text(pdf_path):\n",
        "    with pdfplumber.open(pdf_path) as pdf:\n",
        "        text = \"\"\n",
        "        for page in pdf.pages:\n",
        "            text += page.extract_text() or \"\"  # Extrae texto si existe\n",
        "            # Si hay imágenes, procesar con Tesseract\n",
        "        return text\n",
        "\n",
        "texto_factura = extract_invoice_text('compra_5.pdf')\n"
      ],
      "metadata": {
        "colab": {
          "base_uri": "https://localhost:8080/"
        },
        "id": "XTKGlf_gRLuc",
        "outputId": "1ac015fe-6b64-49f7-8980-44c9bd352de6"
      },
      "execution_count": null,
      "outputs": [
        {
          "output_type": "stream",
          "name": "stderr",
          "text": [
            "WARNING:pdfminer.pdfpage:CropBox missing from /Page, defaulting to MediaBox\n",
            "WARNING:pdfminer.pdfpage:CropBox missing from /Page, defaulting to MediaBox\n"
          ]
        }
      ]
    },
    {
      "cell_type": "code",
      "source": [
        "print(texto_factura)"
      ],
      "metadata": {
        "colab": {
          "base_uri": "https://localhost:8080/"
        },
        "id": "Tg-gjQIWXE_4",
        "outputId": "ac916180-efe1-405a-91b1-d05801c87f7e"
      },
      "execution_count": null,
      "outputs": [
        {
          "output_type": "stream",
          "name": "stdout",
          "text": [
            "FACTURA\n",
            "SAUCEDO GUSTAVO ADRIAN\n",
            "A\n",
            "ROSARIO SEGURIDAD CASA CENTRAL Nº 0005-00001287\n",
            "PRESIDENTE PERON 3998, ROSARIO,\n",
            "SANTA FE Cod. FECHA: 20/03/2025\n",
            "001\n",
            "TEL: 3417013094 RESPONSABLE INSCRIPTO(cid:9)(cid:9)CUIT: 20269996901\n",
            "INICIO ACT.: 31/08/2013(cid:9)(cid:9)ING. BRUTOS: 021-332416-8\n",
            "SEÑOR/ES: GONZALEZ LUIS ALBERTO IVA: RESPONSABLE INSCRIPTO CUIT: 23168525869\n",
            "DOMICILIO: CARBIA 966 LOCALIDAD: ROSARIO NORTE\n",
            "TELEFONOS: 3415 08-6161 PROVINCIA: SANTA FE\n",
            "CORREO ELECTRONICO: CONDICION PAGO:\n",
            "OBSERVACIONES:\n",
            "Código Descripción Cant. Bultos Precio Uni. Sub Total % Sub Total c/\n",
            "IVA IVA\n",
            "4048 PANEL HIKVISION HIBRIDO 8+48 ZONAS - Q26133131 1,00 0,00 75.175,50 75.175,50 21,00 90.962,36\n",
            "El tipo de cambio utilizado es 1 U$D = ARS $ 1.089,5000\n",
            "SUBTOTAL: $ 75.175,50\n",
            "IVA 21%: $15.786,86\n",
            "FECHA VTO: 30/03/2025\n",
            "TOTAL: $ 90.962,36\n",
            "CAE: 75121470585035\n",
            "Generado por www.duxsoftware.com.ar\n"
          ]
        }
      ]
    },
    {
      "cell_type": "markdown",
      "source": [
        "* subtotal\n",
        "* total\n",
        "* iva\n",
        "* cuit cliente\n",
        "* cuit vendedor\n",
        "* razon social\n",
        "* fecha emision\n",
        "* n% facuta"
      ],
      "metadata": {
        "id": "_WCGEVveXEnp"
      }
    },
    {
      "cell_type": "code",
      "source": [
        "!pip install --upgrade openai"
      ],
      "metadata": {
        "collapsed": true,
        "colab": {
          "base_uri": "https://localhost:8080/"
        },
        "id": "KhSPhLyw7ncS",
        "outputId": "771ad616-cb05-4884-b38a-e425465d30d5"
      },
      "execution_count": null,
      "outputs": [
        {
          "output_type": "stream",
          "name": "stdout",
          "text": [
            "Requirement already satisfied: openai in /usr/local/lib/python3.11/dist-packages (1.76.0)\n",
            "Collecting openai\n",
            "  Downloading openai-1.77.0-py3-none-any.whl.metadata (25 kB)\n",
            "Requirement already satisfied: anyio<5,>=3.5.0 in /usr/local/lib/python3.11/dist-packages (from openai) (4.9.0)\n",
            "Requirement already satisfied: distro<2,>=1.7.0 in /usr/local/lib/python3.11/dist-packages (from openai) (1.9.0)\n",
            "Requirement already satisfied: httpx<1,>=0.23.0 in /usr/local/lib/python3.11/dist-packages (from openai) (0.28.1)\n",
            "Requirement already satisfied: jiter<1,>=0.4.0 in /usr/local/lib/python3.11/dist-packages (from openai) (0.9.0)\n",
            "Requirement already satisfied: pydantic<3,>=1.9.0 in /usr/local/lib/python3.11/dist-packages (from openai) (2.11.3)\n",
            "Requirement already satisfied: sniffio in /usr/local/lib/python3.11/dist-packages (from openai) (1.3.1)\n",
            "Requirement already satisfied: tqdm>4 in /usr/local/lib/python3.11/dist-packages (from openai) (4.67.1)\n",
            "Requirement already satisfied: typing-extensions<5,>=4.11 in /usr/local/lib/python3.11/dist-packages (from openai) (4.13.2)\n",
            "Requirement already satisfied: idna>=2.8 in /usr/local/lib/python3.11/dist-packages (from anyio<5,>=3.5.0->openai) (3.10)\n",
            "Requirement already satisfied: certifi in /usr/local/lib/python3.11/dist-packages (from httpx<1,>=0.23.0->openai) (2025.4.26)\n",
            "Requirement already satisfied: httpcore==1.* in /usr/local/lib/python3.11/dist-packages (from httpx<1,>=0.23.0->openai) (1.0.9)\n",
            "Requirement already satisfied: h11>=0.16 in /usr/local/lib/python3.11/dist-packages (from httpcore==1.*->httpx<1,>=0.23.0->openai) (0.16.0)\n",
            "Requirement already satisfied: annotated-types>=0.6.0 in /usr/local/lib/python3.11/dist-packages (from pydantic<3,>=1.9.0->openai) (0.7.0)\n",
            "Requirement already satisfied: pydantic-core==2.33.1 in /usr/local/lib/python3.11/dist-packages (from pydantic<3,>=1.9.0->openai) (2.33.1)\n",
            "Requirement already satisfied: typing-inspection>=0.4.0 in /usr/local/lib/python3.11/dist-packages (from pydantic<3,>=1.9.0->openai) (0.4.0)\n",
            "Downloading openai-1.77.0-py3-none-any.whl (662 kB)\n",
            "\u001b[2K   \u001b[90m━━━━━━━━━━━━━━━━━━━━━━━━━━━━━━━━━━━━━━━━\u001b[0m \u001b[32m662.0/662.0 kB\u001b[0m \u001b[31m9.6 MB/s\u001b[0m eta \u001b[36m0:00:00\u001b[0m\n",
            "\u001b[?25hInstalling collected packages: openai\n",
            "  Attempting uninstall: openai\n",
            "    Found existing installation: openai 1.76.0\n",
            "    Uninstalling openai-1.76.0:\n",
            "      Successfully uninstalled openai-1.76.0\n",
            "Successfully installed openai-1.77.0\n"
          ]
        }
      ]
    },
    {
      "cell_type": "code",
      "source": [
        "api_key = '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'"
      ],
      "metadata": {
        "id": "ODb0OfFw7a4X"
      },
      "execution_count": null,
      "outputs": []
    },
    {
      "cell_type": "code",
      "source": [
        "from openai import OpenAI\n",
        "\n",
        "client = OpenAI(\n",
        "  base_url=\"https://openrouter.ai/api/v1\",\n",
        "  api_key=api_key,\n",
        ")\n",
        "\n",
        "completion = client.chat.completions.create(\n",
        "  model=\"qwen/qwen3-32b:free\",\n",
        "  messages=[\n",
        "    {\n",
        "        \"role\": \"system\",\n",
        "      \"content\": \"\"\"you are an helpful assistant that works with transcripted text from invoices, the goal is to find and extract the data from the user prompt.\n",
        "\n",
        "      User prompt example: invoice structure: fecha emision, numero de factura, razon social comprador, Cuit comprador, razon social vendedor, cuit vendedor, subtotal, IVA, impuestos varios, total.\n",
        "      invoice data: data\n",
        "\n",
        "      output example: {\n",
        "        fecha_emision: 23/02/2025,\n",
        "        numero_factura: 0002-00001543,\n",
        "        razon_social_comprador: Sancor SRL,\n",
        "        cuit_comprador:20-44268241-1,\n",
        "        razon_social_vendedor: jhon anthony kennedy,\n",
        "        cuit_vendedor: 20-44232760-3,\n",
        "        subtotal: 62100.20,\n",
        "        IVA 21: 13041.00,\n",
        "        IVA 10.5: 0.00,\n",
        "        IVA 27: 0.00,\n",
        "        impuestos_varios: 0.00,\n",
        "        total: 75141.20\n",
        "      }\n",
        "\n",
        "      }\n",
        "      \"\"\"\n",
        "    },\n",
        "    {\n",
        "      \"role\": \"user\",\n",
        "      \"content\": \"\"\"invoice structure: fecha emision, numero de factura, razon social comprador, Cuit comprador, razon social vendedor, cuit vendedor, subtotal, IVA, impuestos varios, total.\n",
        "      invoice data: \"\"\" + texto_factura\n",
        "    }\n",
        "  ]\n",
        ")\n"
      ],
      "metadata": {
        "collapsed": true,
        "id": "dNb6cJil7gTp"
      },
      "execution_count": null,
      "outputs": []
    },
    {
      "cell_type": "code",
      "source": [
        "print(completion.choices[0].message.content)"
      ],
      "metadata": {
        "colab": {
          "base_uri": "https://localhost:8080/"
        },
        "id": "dw9pHi8n_cca",
        "outputId": "ce23b441-fbf7-47e9-fb44-11ce4e761967"
      },
      "execution_count": null,
      "outputs": [
        {
          "output_type": "stream",
          "name": "stdout",
          "text": [
            "{\n",
            "  \"fecha_emision\": \"20/03/2025\",\n",
            "  \"numero_factura\": \"0005-00001287\",\n",
            "  \"razon_social_comprador\": \"GONZALEZ LUIS ALBERTO\",\n",
            "  \"cuit_comprador\": \"23-16852586-9\",\n",
            "  \"razon_social_vendedor\": \"SAUCEDO GUSTAVO ADRIAN\",\n",
            "  \"cuit_vendedor\": \"20-26999690-1\",\n",
            "  \"subtotal\": 75175.50,\n",
            "  \"IVA 21\": 15786.86,\n",
            "  \"IVA 10.5\": 0.00,\n",
            "  \"IVA 27\": 0.00,\n",
            "  \"impuestos_varios\": 0.00,\n",
            "  \"total\": 90962.36\n",
            "}\n"
          ]
        }
      ]
    }
  ]
}